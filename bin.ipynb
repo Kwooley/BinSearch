{
 "cells": [
  {
   "attachments": {},
   "cell_type": "markdown",
   "metadata": {},
   "source": [
    "# Binary Search"
   ]
  },
  {
   "attachments": {},
   "cell_type": "markdown",
   "metadata": {},
   "source": [
    "## Version 1: Basic Iterative Version"
   ]
  },
  {
   "cell_type": "code",
   "execution_count": 11,
   "metadata": {},
   "outputs": [
    {
     "name": "stdout",
     "output_type": "stream",
     "text": [
      "Not Found\n"
     ]
    }
   ],
   "source": [
    "def binsearch(numbers, target):\n",
    "    left = 0\n",
    "    right = len(numbers)-1\n",
    "\n",
    "    while left <= right:\n",
    "        mid = (left+right) // 2\n",
    "        if numbers[mid] == target:\n",
    "            return mid\n",
    "        elif numbers[mid] < target:\n",
    "            left = mid + 1\n",
    "        else:\n",
    "            right = mid - 1\n",
    "    else:\n",
    "        return -1\n",
    "\n",
    "\n",
    "numbers=[10, 20, 25, 30, 50, 70, 80]\n",
    "target = 90\n",
    "\n",
    "ret=binsearch(numbers, target)\n",
    "if ret != -1:\n",
    "    print (f'Found {target} at the index {ret}')\n",
    "else:\n",
    "    print ('Not Found')\n"
   ]
  },
  {
   "attachments": {},
   "cell_type": "markdown",
   "metadata": {},
   "source": [
    "## Version 2: Recursive Version"
   ]
  },
  {
   "cell_type": "code",
   "execution_count": 5,
   "metadata": {},
   "outputs": [
    {
     "name": "stdout",
     "output_type": "stream",
     "text": [
      "Initial list values: [10, 20, 30, 40, 50, 60, 70, 80, 90, 100]\n",
      "3\n",
      "Found at 3, 40\n"
     ]
    }
   ],
   "source": [
    "\n",
    "def binsearch_recur(numbers, left, right, target):\n",
    "    \n",
    "\n",
    "    if left <= right:\n",
    "        mid = (left+right) // 2\n",
    "        if numbers[mid] == target:\n",
    "            return mid\n",
    "        elif numbers[mid] < target:\n",
    "            left = mid + 1\n",
    "            return binsearch_recur(numbers,left, right, target)\n",
    "        else:\n",
    "            right = mid - 1\n",
    "            return binsearch_recur(numbers,left, right, target)\n",
    "    else:\n",
    "        return -1\n",
    "\n",
    "\n",
    "\n",
    "\n",
    "\n",
    "import random\n",
    "numbers = [ random.randint(0,100) for i in range(10)] \n",
    "numbers = [10, 20, 30,40, 50, 60, 70, 80, 90, 100] \n",
    "\n",
    "numbers.sort()\n",
    "print (f'Initial list values: {numbers}')\n",
    "\n",
    "ret = binsearch_recur(numbers, 0, len(numbers)-1, 40)\n",
    "print (ret)\n",
    "if ret != -1:\n",
    "    print (f'Found at {ret}, {numbers[ret]}')\n",
    "else:\n",
    "    print (f'Not Found, {numbers[ret]}')\n",
    "\n"
   ]
  }
 ],
 "metadata": {
  "kernelspec": {
   "display_name": "base",
   "language": "python",
   "name": "python3"
  },
  "language_info": {
   "codemirror_mode": {
    "name": "ipython",
    "version": 3
   },
   "file_extension": ".py",
   "mimetype": "text/x-python",
   "name": "python",
   "nbconvert_exporter": "python",
   "pygments_lexer": "ipython3",
   "version": "3.9.7"
  },
  "orig_nbformat": 4
 },
 "nbformat": 4,
 "nbformat_minor": 2
}
