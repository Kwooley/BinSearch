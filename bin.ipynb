{
 "cells": [
  {
   "attachments": {},
   "cell_type": "markdown",
   "metadata": {},
   "source": [
    "# Binary Search"
   ]
  },
  {
   "attachments": {},
   "cell_type": "markdown",
   "metadata": {},
   "source": [
    "## Version 1: Basic Iterative Version"
   ]
  },
  {
   "cell_type": "code",
   "execution_count": 3,
   "metadata": {},
   "outputs": [
    {
     "name": "stdout",
     "output_type": "stream",
     "text": [
      "Found 70 at the index 5\n"
     ]
    }
   ],
   "source": [
    "def binsearch(numbers, target):\n",
    "    left = 0\n",
    "    right = len(numbers)-1\n",
    "\n",
    "    while left <= right:\n",
    "        mid = (left+right) // 2\n",
    "        if numbers[mid] == target:\n",
    "            return mid\n",
    "        elif numbers[mid] < target:\n",
    "            left = mid + 1\n",
    "        else:\n",
    "            right = mid - 1\n",
    "    return -1\n",
    "\n",
    "\n",
    "numbers=[10, 20, 25, 30, 50, 70, 80]\n",
    "target = 70\n",
    "\n",
    "ret=binsearch(numbers, target)\n",
    "if ret != -1:\n",
    "    print (f'Found {target} at the index {ret}')\n",
    "else:\n",
    "    print ('Not Found')\n"
   ]
  },
  {
   "attachments": {},
   "cell_type": "markdown",
   "metadata": {},
   "source": [
    "## Version 2: Recursive Version"
   ]
  },
  {
   "cell_type": "code",
   "execution_count": 4,
   "metadata": {},
   "outputs": [
    {
     "name": "stdout",
     "output_type": "stream",
     "text": [
      "Initial list values: [10, 20, 30, 40, 50, 60, 70, 80, 90, 100]\n",
      "3\n",
      "Found at 3, 40\n"
     ]
    }
   ],
   "source": [
    "def binsearch_recur(numbers, left, right, target):\n",
    "\n",
    "    if left <= right:\n",
    "        mid = (left+right) // 2\n",
    "        if numbers[mid] == target:\n",
    "            return mid\n",
    "        elif numbers[mid] < target:\n",
    "            left = mid + 1\n",
    "            return binsearch_recur(numbers, left, right, target)\n",
    "        else:\n",
    "            right = mid - 1\n",
    "            return binsearch_recur(numbers, left, right, target)\n",
    "    else:\n",
    "        return -1\n",
    "\n",
    "\n",
    "def main():\n",
    "    # import random\n",
    "    # numbers = [random.randint(0, 100) for i in range(10)]\n",
    "    # numbers.sort()\n",
    "    numbers = [10, 20, 25, 30, 50, 70, 80]\n",
    "    target = 70\n",
    "\n",
    "    print(f'Initial list values: {numbers}')\n",
    "\n",
    "    ret = binsearch_recur(numbers, 0, len(numbers)-1, target)\n",
    "    \n",
    "    if ret != -1:\n",
    "        print(f'Found at {ret}, {numbers[ret]}')\n",
    "    else:\n",
    "        print(f'Not Found, {target}')\n",
    "\n",
    "\n",
    "if __name__ == '__main__':\n",
    "    main()\n"
   ]
  },
  {
   "attachments": {},
   "cell_type": "markdown",
   "metadata": {},
   "source": [
    "## Version 3 : Polymorphism"
   ]
  },
  {
   "cell_type": "code",
   "execution_count": 66,
   "metadata": {},
   "outputs": [
    {
     "name": "stdout",
     "output_type": "stream",
     "text": [
      "Student name: John \t ID: 100 \t scores: [100, 100, 100]\n",
      "Student name: James \t ID: 101 \t scores: [70, 80, 90, 100]\n",
      "2\n",
      "Numbers id: 101 \t [90, 91, 93, 95, 100]\n",
      "Numbers id: 102 \t [100, 110, 130, 140, 105]\n",
      "4\n",
      "1\n",
      "3\n",
      "4\n",
      "0\n"
     ]
    }
   ],
   "source": [
    "\n",
    "class Students():\n",
    "\n",
    "    def __init__(self, sid, sname, scores):\n",
    "        self.sid = sid\n",
    "        self.sname = sname\n",
    "        self.scores =scores\n",
    "\n",
    "    def __str__(self):\n",
    "        return (f'Student name: {self.sname} \\t ID: {self.sid} \\t scores: {self.scores}')\n",
    "    \n",
    "    def __eq__(self, other):\n",
    "        if self.sname == other.sname:\n",
    "            return True\n",
    "        else:\n",
    "            return False\n",
    "\n",
    "    def binsearch(self, left, right, target):\n",
    "        if left <= right:\n",
    "            mid = (left+right) // 2\n",
    "            if self.scores[mid] == target:\n",
    "                return mid\n",
    "            elif self.scores[mid] < target:\n",
    "                left = mid + 1\n",
    "                return self.binsearch(left,right, target)\n",
    "            else:\n",
    "                right = mid -1 \n",
    "                return self.binsearch(left,right, target)\n",
    "        else:\n",
    "            return -1\n",
    "\n",
    "class Numbers():\n",
    "    def __init__(self, nid, scores):\n",
    "        self.nid = nid\n",
    "        self.scores = scores\n",
    "\n",
    "    def __str__(self):\n",
    "        return (f'Numbers id: {self.nid} \\t {self.scores}')\n",
    "\n",
    "    def __eq__(self, other):\n",
    "        if self.nid == other.nid:\n",
    "            return True\n",
    "        else:\n",
    "            return False\n",
    "    \n",
    "    def binsearch(self, left, right, target):\n",
    "        if left <= right:\n",
    "            mid = (left+right) // 2\n",
    "            if self.scores[mid] == target:\n",
    "                return mid\n",
    "            elif self.scores[mid] < target:\n",
    "                left = mid + 1\n",
    "                return self.binsearch(left, right, target)\n",
    "            else:\n",
    "                right = mid - 1\n",
    "                return self.binsearch(left, right, target)\n",
    "        else:\n",
    "            return -1\n",
    "\n",
    "s1 = Students(100, 'John', [100, 100, 100])\n",
    "s2 = Students(101, 'James', [70, 80, 90, 100])\n",
    "print (f'{s1}\\n{s2}')\n",
    "ret = s2.binsearch(0, len(s2.scores)-1, 90)\n",
    "print (ret)\n",
    "\n",
    "n1 = Numbers(101, [90, 91, 93, 95, 100])\n",
    "n2 = Numbers(102, [100, 110, 130, 140, 105])\n",
    "print (f'{n1}\\n{n2}')\n",
    "\n",
    "ret = n1.binsearch(0, len(n1.scores)-1, 100)\n",
    "print (ret)\n",
    "\n",
    "\n",
    "for p in (s1, s2, n1, n2):\n",
    "    ret = p.binsearch(0, len(p.scores)-1, 100)\n",
    "    print (ret)\n"
   ]
  },
  {
   "cell_type": "code",
   "execution_count": null,
   "metadata": {},
   "outputs": [],
   "source": []
  }
 ],
 "metadata": {
  "kernelspec": {
   "display_name": "base",
   "language": "python",
   "name": "python3"
  },
  "language_info": {
   "codemirror_mode": {
    "name": "ipython",
    "version": 3
   },
   "file_extension": ".py",
   "mimetype": "text/x-python",
   "name": "python",
   "nbconvert_exporter": "python",
   "pygments_lexer": "ipython3",
   "version": "3.9.13"
  },
  "orig_nbformat": 4
 },
 "nbformat": 4,
 "nbformat_minor": 2
}
