{
 "cells": [
  {
   "attachments": {},
   "cell_type": "markdown",
   "metadata": {},
   "source": [
    "# Binary Search Tree\n",
    "\n",
    "### (0)Traverse all nodes in BST"
   ]
  },
  {
   "cell_type": "code",
   "execution_count": 1,
   "metadata": {},
   "outputs": [],
   "source": [
    "\n",
    "def printNodeInorder(root):\n",
    "    if root:\n",
    "        printNodeInorder(root.left)\n",
    "        print (root.value, end='\\t')\n",
    "        printNodeInorder(root.right)"
   ]
  },
  {
   "attachments": {},
   "cell_type": "markdown",
   "metadata": {},
   "source": [
    "### (1) Insertion a Node"
   ]
  },
  {
   "cell_type": "code",
   "execution_count": 2,
   "metadata": {},
   "outputs": [
    {
     "name": "stdout",
     "output_type": "stream",
     "text": [
      "10\t20\t25\t30\t50\t70\t80\t85\t\n"
     ]
    }
   ],
   "source": [
    "\n",
    "\n",
    "class node:\n",
    "    def __init__(self, value):\n",
    "        self.value = value\n",
    "        self.left = None\n",
    "        self.right = None\n",
    "\n",
    "def new_node(root, value):\n",
    "    if root == None:\n",
    "        return node(value)\n",
    "    if value < root.value:\n",
    "        root.left = new_node(root.left, value)\n",
    "    else:\n",
    "        root.right = new_node(root.right, value)\n",
    "    return root\n",
    "\n",
    "\n",
    "r = None\n",
    "r = new_node(r, 30) \n",
    "r = new_node(r, 20)\n",
    "r = new_node(r, 70)\n",
    "r = new_node(r, 10)\n",
    "r = new_node(r, 25)\n",
    "r = new_node(r, 50)\n",
    "r = new_node(r, 80)\n",
    "r = new_node(r, 85)\n",
    "\n",
    "root = r\n",
    "printNodeInorder(r)\n",
    "print ()\n",
    "\n"
   ]
  },
  {
   "attachments": {},
   "cell_type": "markdown",
   "metadata": {},
   "source": [
    "### (2) Deletion a Node"
   ]
  },
  {
   "cell_type": "code",
   "execution_count": 7,
   "metadata": {},
   "outputs": [
    {
     "name": "stdout",
     "output_type": "stream",
     "text": [
      "20\t25\t30\t70\t80\t85\t\n",
      "Current Root value 30\n"
     ]
    }
   ],
   "source": [
    "def getSuccessor(root):\n",
    "    start = root.right\n",
    "    while (start.left):\n",
    "        start = start.left\n",
    "    return start\n",
    "\n",
    "def delete_node(root, value):\n",
    "    if root == None:\n",
    "        return root\n",
    "    \n",
    "    if value < root.value:\n",
    "        root.left = delete_node(root.left, value)\n",
    "    elif value > root.value:\n",
    "        root.right = delete_node(root.right, value)\n",
    "    else:\n",
    "        if root.left == None:\n",
    "            tmp = root.right\n",
    "            del root\n",
    "            return tmp\n",
    "        elif root.right == None:\n",
    "            tmp = root.left\n",
    "            del root\n",
    "            return tmp\n",
    "\n",
    "        # In case of two nodes\n",
    "        sc = getSuccessor(root)\n",
    "        root.value = sc.value\n",
    "        root.right = delete_node(root.right, sc.value)\n",
    "    return root\n",
    "\n",
    "# Case 1: delete the leaf node\n",
    "r = delete_node(r, 10)\n",
    "\n",
    "# Case 2: delete the node that has single child \n",
    "# r = delete_node(r, 80)\n",
    "\n",
    "# Case 2: delete the node that has two children \n",
    "r = delete_node(r, 50)\n",
    "printNodeInorder(r)\n",
    "print ()\n",
    "\n",
    "## Current Root Value\n",
    "if (r):\n",
    "    print ('Current Root value', r.value)\n",
    "print ()"
   ]
  }
 ],
 "metadata": {
  "kernelspec": {
   "display_name": "base",
   "language": "python",
   "name": "python3"
  },
  "language_info": {
   "codemirror_mode": {
    "name": "ipython",
    "version": 3
   },
   "file_extension": ".py",
   "mimetype": "text/x-python",
   "name": "python",
   "nbconvert_exporter": "python",
   "pygments_lexer": "ipython3",
   "version": "3.9.7"
  },
  "orig_nbformat": 4
 },
 "nbformat": 4,
 "nbformat_minor": 2
}
